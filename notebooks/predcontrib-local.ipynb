{
 "cells": [
  {
   "cell_type": "markdown",
   "metadata": {},
   "source": [
    "This notebook was used to test possible solutions to https://github.com/microsoft/LightGBM/issues/3713."
   ]
  },
  {
   "cell_type": "code",
   "execution_count": 1,
   "metadata": {},
   "outputs": [],
   "source": [
    "import dask.array as da\n",
    "\n",
    "from dask.distributed import Client, LocalCluster, wait\n",
    "\n",
    "from lightgbm.dask import DaskLGBMRegressor, DaskLGBMClassifier"
   ]
  },
  {
   "cell_type": "markdown",
   "metadata": {},
   "source": [
    "Create a cluster with 3 workers. Since this is a `LocalCluster`, those workers are just 3 local processes."
   ]
  },
  {
   "cell_type": "code",
   "execution_count": 2,
   "metadata": {},
   "outputs": [
    {
     "name": "stdout",
     "output_type": "stream",
     "text": [
      "View the dashboard: http://127.0.0.1:8787/status\n"
     ]
    }
   ],
   "source": [
    "n_workers = 3\n",
    "cluster = LocalCluster()\n",
    "client = Client(cluster)\n",
    "client.wait_for_workers(n_workers)\n",
    "\n",
    "print(f\"View the dashboard: {cluster.dashboard_link}\")"
   ]
  },
  {
   "cell_type": "markdown",
   "metadata": {},
   "source": [
    "Click the link above to view a diagnostic dashboard while you run the training code below."
   ]
  },
  {
   "cell_type": "code",
   "execution_count": 3,
   "metadata": {},
   "outputs": [],
   "source": [
    "num_rows = 1e5\n",
    "num_features = 1e2\n",
    "num_partitions = 10\n",
    "rows_per_chunk = num_rows / num_partitions\n",
    "\n",
    "data = da.random.random((num_rows, num_features), (rows_per_chunk, num_features))\n",
    "\n",
    "reg_target = da.random.random((num_rows, 1), (rows_per_chunk, 1))\n",
    "clf_target = da.random.random((num_rows, 1), (rows_per_chunk, 1)) > 0.5"
   ]
  },
  {
   "cell_type": "markdown",
   "metadata": {},
   "source": [
    "Right now, the Dask Arrays `data` and `labels` are lazy. Before training, you can force the cluster to compute them by running `.persist()` and then wait for that computation to finish by `wait()`-ing on them."
   ]
  },
  {
   "cell_type": "code",
   "execution_count": 4,
   "metadata": {},
   "outputs": [],
   "source": [
    "data = data.persist()\n",
    "reg_target = reg_target.persist()\n",
    "clf_target = clf_target.persist()\n",
    "_ = wait(data)\n",
    "_ = wait(reg_target)\n",
    "_ = wait(clf_target)"
   ]
  },
  {
   "cell_type": "markdown",
   "metadata": {},
   "source": [
    "With the data set up on the workers, train a model. `lightgbm.dask.DaskLGBMRegressor` has an interface that tries to stay as close as possible to the non-Dask scikit-learn interface to LightGBM (`lightgbm.sklearn.LGBMRegressor`)."
   ]
  },
  {
   "cell_type": "code",
   "execution_count": 5,
   "metadata": {},
   "outputs": [
    {
     "data": {
      "text/plain": [
       "DaskLGBMRegressor(local_listen_port=12400,\n",
       "                  machines='127.0.0.1:12400,127.0.0.1:12401,127.0.0.1:12402,127.0.0.1:12403',\n",
       "                  num_machines=4, num_threads=2, objective='regression_l2',\n",
       "                  random_state=708, time_out=120, tree_learner='data')"
      ]
     },
     "execution_count": 5,
     "metadata": {},
     "output_type": "execute_result"
    }
   ],
   "source": [
    "dask_reg = DaskLGBMRegressor(\n",
    "    random_state=708,\n",
    "    objective=\"regression_l2\",\n",
    "    tree_learner=\"data\",\n",
    ")\n",
    "\n",
    "dask_reg.fit(\n",
    "    client=client,\n",
    "    X=data,\n",
    "    y=reg_target,\n",
    ")"
   ]
  },
  {
   "cell_type": "code",
   "execution_count": 10,
   "metadata": {},
   "outputs": [],
   "source": [
    "# predictions asking for predcontrib should add\n",
    "# the contribution column\n",
    "preds = dask_reg.predict(\n",
    "    data[:1000, :]\n",
    ").compute()\n",
    "preds_with_contrib = dask_reg.predict(\n",
    "    data[:1000, :],\n",
    "    pred_contrib=True\n",
    ").compute()"
   ]
  },
  {
   "cell_type": "code",
   "execution_count": 8,
   "metadata": {},
   "outputs": [
    {
     "data": {
      "text/plain": [
       "(100000, 101)"
      ]
     },
     "execution_count": 8,
     "metadata": {},
     "output_type": "execute_result"
    }
   ],
   "source": [
    "preds_with_contrib.compute().shape"
   ]
  },
  {
   "cell_type": "code",
   "execution_count": 14,
   "metadata": {},
   "outputs": [
    {
     "data": {
      "text/plain": [
       "array([ 6.45399862e-04, -3.95657555e-05,  7.59298693e-05,  5.69546129e-04,\n",
       "        2.06662463e-04, -3.71514231e-04, -6.01199797e-05, -1.87284127e-04,\n",
       "        5.74538695e-04, -7.69852515e-05, -1.36459849e-04, -2.19577372e-04,\n",
       "        2.28292839e-04,  3.25229481e-05, -1.08228282e-04,  1.79561465e-04,\n",
       "        7.24739626e-05,  5.76597662e-06, -4.05503338e-05,  9.67508650e-04])"
      ]
     },
     "execution_count": 14,
     "metadata": {},
     "output_type": "execute_result"
    }
   ],
   "source": [
    "preds_with_contrib[1, :20]"
   ]
  },
  {
   "cell_type": "code",
   "execution_count": 18,
   "metadata": {},
   "outputs": [
    {
     "data": {
      "text/plain": [
       "array([0.26912814, 0.64632271, 0.76171869, 0.66172313, 0.15239813,\n",
       "       0.9929481 , 0.76962697, 0.08387276, 0.19024855, 0.21603516,\n",
       "       0.58100825, 0.07072624, 0.25820807, 0.02168651, 0.52393139,\n",
       "       0.73113175, 0.10402213, 0.73453963, 0.05693272, 0.8384313 ])"
      ]
     },
     "execution_count": 18,
     "metadata": {},
     "output_type": "execute_result"
    }
   ],
   "source": [
    "data.compute()[1, :20]"
   ]
  },
  {
   "cell_type": "markdown",
   "metadata": {},
   "source": [
    "The model produced by this training run is an instance of `DaskLGBMRegressor`. To get a regular non-Dask model (which can be pickled and saved), run `.to_local()`."
   ]
  },
  {
   "cell_type": "code",
   "execution_count": null,
   "metadata": {},
   "outputs": [],
   "source": [
    "local_model = dask_reg.to_local()\n",
    "type(local_model)"
   ]
  },
  {
   "cell_type": "markdown",
   "metadata": {},
   "source": [
    "You can visualize this model by looking at a data frame representation of it."
   ]
  },
  {
   "cell_type": "code",
   "execution_count": null,
   "metadata": {},
   "outputs": [],
   "source": [
    "local_model.booster_.trees_to_dataframe()"
   ]
  }
 ],
 "metadata": {
  "kernelspec": {
   "display_name": "Python 3",
   "language": "python",
   "name": "python3"
  },
  "language_info": {
   "codemirror_mode": {
    "name": "ipython",
    "version": 3
   },
   "file_extension": ".py",
   "mimetype": "text/x-python",
   "name": "python",
   "nbconvert_exporter": "python",
   "pygments_lexer": "ipython3",
   "version": "3.8.5"
  }
 },
 "nbformat": 4,
 "nbformat_minor": 4
}
